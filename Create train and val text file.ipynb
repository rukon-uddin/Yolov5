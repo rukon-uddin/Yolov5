{
 "cells": [
  {
   "cell_type": "code",
   "execution_count": 1,
   "id": "9c3fb6b0",
   "metadata": {},
   "outputs": [
    {
     "name": "stderr",
     "output_type": "stream",
     "text": [
      "100%|████████████████████████████████████████████████████████████████████████████████████████| 438/438 [00:00<?, ?it/s]\n",
      "100%|████████████████████████████████████████████████████████████████████████████████████████| 219/219 [00:00<?, ?it/s]"
     ]
    },
    {
     "name": "stdout",
     "output_type": "stream",
     "text": [
      "\n",
      "Time: 0.011008739471435547\n"
     ]
    },
    {
     "name": "stderr",
     "output_type": "stream",
     "text": [
      "\n"
     ]
    }
   ],
   "source": [
    "from tqdm import tqdm\n",
    "import os\n",
    "import time\n",
    "\n",
    "start = time.time() \n",
    "image_files = []\n",
    "for filename in tqdm(os.listdir(r\"D:/yolov5/dataset/train\")):   # prive the appropriate path\n",
    "    if filename.endswith(\".jpg\") or filename.endswith(\".JPG\") or filename.endswith(\".png\") or filename.endswith(\".PNG\"):\n",
    "        image_files.append(\"D:/yolov5/dataset/train/\" + filename) # prive the appropriate path (Note: dont forget to put he backslash '/' at the end)\n",
    "os.chdir(r\"D:\\yolov5\")\n",
    "with open(\"train.txt\", \"w\") as outfile:\n",
    "    for image in tqdm(image_files):\n",
    "        outfile.write(image)\n",
    "        outfile.write(\"\\n\")\n",
    "    outfile.close()\n",
    "os.chdir(\"..\")\n",
    "\n",
    "print(f'\\nTime: {time.time() - start}')"
   ]
  },
  {
   "cell_type": "code",
   "execution_count": 2,
   "id": "226b1751",
   "metadata": {},
   "outputs": [
    {
     "name": "stderr",
     "output_type": "stream",
     "text": [
      "100%|████████████████████████████████████████████████████████████████████████████████████████| 218/218 [00:00<?, ?it/s]\n",
      "100%|████████████████████████████████████████████████████████████████████████████████████████| 108/108 [00:00<?, ?it/s]"
     ]
    },
    {
     "name": "stdout",
     "output_type": "stream",
     "text": [
      "\n",
      "Time: 0.00399470329284668\n"
     ]
    },
    {
     "name": "stderr",
     "output_type": "stream",
     "text": [
      "\n"
     ]
    }
   ],
   "source": [
    "from tqdm import tqdm\n",
    "import os\n",
    "import time\n",
    "\n",
    "start = time.time() \n",
    "image_files = []\n",
    "for filename in tqdm(os.listdir(r\"D:/yolov5/dataset/val\")):   # prive the appropriate path\n",
    "    if filename.endswith(\".jpg\") or filename.endswith(\".JPG\") or filename.endswith(\".png\") or filename.endswith(\".PNG\"):\n",
    "        image_files.append(\"D:/yolov5/dataset/val/\" + filename) # prive the appropriate path (Note: dont forget to put he backslash '/' at the end)\n",
    "os.chdir(r\"D:\\yolov5\")\n",
    "with open(\"val.txt\", \"w\") as outfile:\n",
    "    for image in tqdm(image_files):\n",
    "        outfile.write(image)\n",
    "        outfile.write(\"\\n\")\n",
    "    outfile.close()\n",
    "os.chdir(\"..\")\n",
    "\n",
    "print(f'\\nTime: {time.time() - start}')"
   ]
  },
  {
   "cell_type": "code",
   "execution_count": null,
   "id": "d768697d",
   "metadata": {},
   "outputs": [],
   "source": []
  }
 ],
 "metadata": {
  "kernelspec": {
   "display_name": "Python 3 (ipykernel)",
   "language": "python",
   "name": "python3"
  },
  "language_info": {
   "codemirror_mode": {
    "name": "ipython",
    "version": 3
   },
   "file_extension": ".py",
   "mimetype": "text/x-python",
   "name": "python",
   "nbconvert_exporter": "python",
   "pygments_lexer": "ipython3",
   "version": "3.8.10"
  }
 },
 "nbformat": 4,
 "nbformat_minor": 5
}
